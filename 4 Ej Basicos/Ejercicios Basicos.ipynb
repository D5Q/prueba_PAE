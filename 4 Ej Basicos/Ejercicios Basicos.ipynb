{
 "cells": [
  {
   "cell_type": "markdown",
   "metadata": {},
   "source": [
    "Ejercicio 0:\n",
    "\n",
    "Escribir un script que mezcle dos diccionarios. Si ambos diccionarios comparten el mismo key, sus contenidos deberán sumarse.\n",
    "\n",
    "Ejemplo:\n",
    "\n",
    "d1 = {'a': 100, 'b': 200, 'c':300}  \n",
    "d2 = {'a': 300, 'b': 200, 'd':400}\n",
    "\n",
    "Salida: {'a': 400, 'b': 400, 'd': 400, 'c': 300}\n",
    "\n",
    "Mas información sobre diccionarios en: https://www.python-course.eu/dictionaries.php"
   ]
  },
  {
   "cell_type": "code",
   "execution_count": 17,
   "metadata": {},
   "outputs": [
    {
     "name": "stdout",
     "output_type": "stream",
     "text": [
      "{'a': 400, 'b': 400, 'c': 300, 'd': 400}\n"
     ]
    }
   ],
   "source": [
    "d1 = {'a': 100, 'b': 200, 'c':300}  \n",
    "d2 = {'a': 300, 'b': 200, 'd':400}\n",
    "#z = dict(list(d1.items()) + list(d2.items()))\n",
    "#for i in z:\n",
    "d3={}\n",
    "for d in [d1,d2]:\n",
    "    for k,v in d.items():\n",
    "        d3.setdefault(k,0)\n",
    "        d3[k]+=v\n",
    "print(d3)"
   ]
  },
  {
   "cell_type": "markdown",
   "metadata": {},
   "source": [
    "# Ejercitación Básica en Python\n",
    "\n",
    "Los siguientes ejercicios tienen como objetivo introducir al alumno en la programación en Python.  \n",
    "Los mismos están ordenados por dificultad ascendente y fueron extraídos de http://www.practicepython.org/.\n",
    "En dicha página hay información adicional sobre cada ejercicio. Se recomienda leer cada link con detenimiento ya que los recursos para realizar la resolución se encuentran explicados con detalle."
   ]
  },
  {
   "cell_type": "markdown",
   "metadata": {},
   "source": [
    "[Ejercicio 1](http://www.practicepython.org/exercise/2014/01/29/01-character-input.html)\n",
    "- Escribir un programa que pregunte al usuario su nombre y la edad. \n",
    "- Imprimir un mensaje dirigido al usuario que le diga en qué año va a tener 100 años."
   ]
  },
  {
   "cell_type": "code",
   "execution_count": 21,
   "metadata": {
    "collapsed": true
   },
   "outputs": [
    {
     "name": "stdin",
     "output_type": "stream",
     "text": [
      "Ingrese su nombre: Diego\n",
      "Ingrese su edad: 41\n"
     ]
    },
    {
     "name": "stdout",
     "output_type": "stream",
     "text": [
      "En el año 2078 , Diego tendrá 100 años\n"
     ]
    }
   ],
   "source": [
    "nombre=input(\"Ingrese su nombre:\")\n",
    "edad=int(input(\"Ingrese su edad:\"))\n",
    "year100=100-edad+2019\n",
    "print(\"En el año\",year100,\",\",nombre,\"tendrá 100 años\")"
   ]
  },
  {
   "cell_type": "markdown",
   "metadata": {},
   "source": [
    "[Ejercicio 2](http://www.practicepython.org/exercise/2014/02/05/02-odd-or-even.html)\n",
    "- Pedir al usuario que ingrese un número.\n",
    "- Imprimir un mensaje indicando si el número es par o impar."
   ]
  },
  {
   "cell_type": "code",
   "execution_count": 37,
   "metadata": {
    "collapsed": true
   },
   "outputs": [
    {
     "name": "stdin",
     "output_type": "stream",
     "text": [
      "Ingrese un número: 5\n"
     ]
    },
    {
     "name": "stdout",
     "output_type": "stream",
     "text": [
      "El número ingresado es impar\n"
     ]
    }
   ],
   "source": [
    "#input(\"Ingrese un número:\")\n",
    "num=int(input(\"Ingrese un número:\"))\n",
    "x=num/2\n",
    "if int(x)==(x):\n",
    "    print(\"El número ingresado es par\")\n",
    "else:\n",
    "    print(\"El número ingresado es impar\")"
   ]
  },
  {
   "cell_type": "markdown",
   "metadata": {},
   "source": [
    "[Ejercicio 3](http://www.practicepython.org/exercise/2014/02/15/03-list-less-than-ten.html):\n",
    "\n",
    "- Escribir un programa que imprima todos los elementos de una lista que sean menores al 5.\n",
    "\n"
   ]
  },
  {
   "cell_type": "code",
   "execution_count": 45,
   "metadata": {
    "collapsed": true
   },
   "outputs": [
    {
     "data": {
      "text/plain": [
       "[1, 2, 3, 4, 1, 3]"
      ]
     },
     "execution_count": 45,
     "metadata": {},
     "output_type": "execute_result"
    }
   ],
   "source": [
    "lst=[1,2,3,4,5,6,7,8,9,10,1,3]\n",
    "lstb=[]\n",
    "for i in lst:\n",
    "    if i <5:\n",
    "       lstb.append(i)\n",
    "lstb"
   ]
  },
  {
   "cell_type": "markdown",
   "metadata": {},
   "source": [
    "[Ejercicio 4](http://www.practicepython.org/exercise/2014/02/26/04-divisors.html)\n",
    "- Pedir al usuario que ingrese un número.\n",
    "- Imprimir todos los divisores del número ingresado."
   ]
  },
  {
   "cell_type": "code",
   "execution_count": 52,
   "metadata": {
    "collapsed": true
   },
   "outputs": [
    {
     "name": "stdin",
     "output_type": "stream",
     "text": [
      "Ingrese un número para dividir: 8\n"
     ]
    },
    {
     "name": "stdout",
     "output_type": "stream",
     "text": [
      "[1, 2, 4, 8]\n"
     ]
    }
   ],
   "source": [
    "y=int(input(\"Ingrese un número para dividir:\"))\n",
    "lsty=list(range(1,y+1))\n",
    "divisores=[]\n",
    "for i in lsty:\n",
    "    if y%i == 0:\n",
    "        divisores.append(i)\n",
    "print(divisores)\n"
   ]
  },
  {
   "cell_type": "markdown",
   "metadata": {},
   "source": [
    "[Ejercicio 5](http://www.practicepython.org/exercise/2014/03/05/05-list-overlap.html)\n",
    "- Escribir un programa que a partir de dos listas, devuelva los elementos comunes entre las dos listas.\n",
    "- La salida deberá no tener elementos duplicados.\n",
    "- Asegúrese que su programa funcione para dos listas de distintos tamaños."
   ]
  },
  {
   "cell_type": "code",
   "execution_count": 54,
   "metadata": {
    "collapsed": true
   },
   "outputs": [
    {
     "name": "stdout",
     "output_type": "stream",
     "text": [
      "[2, 4, 6, 9, 11]\n"
     ]
    }
   ],
   "source": [
    "l1=[1,2,3,4,5,6,7,8,9,10,11,12]\n",
    "l2=[2,4,6,9,11,13]\n",
    "ld=[]\n",
    "\n",
    "for i in l1:\n",
    "    for j in l2:\n",
    "        if i == j:\n",
    "            ld.append(i)\n",
    "            \n",
    "print(ld)"
   ]
  },
  {
   "cell_type": "markdown",
   "metadata": {},
   "source": [
    "[Ejercicio 6](http://www.practicepython.org/exercise/2014/03/12/06-string-lists.html)\n",
    "- Pedir al usuario que ingrese un texto.\n",
    "- Imprimir un mensaje que indique si el texto ingresado es un paĺíndromo o no."
   ]
  },
  {
   "cell_type": "code",
   "execution_count": 58,
   "metadata": {
    "collapsed": true
   },
   "outputs": [
    {
     "name": "stdin",
     "output_type": "stream",
     "text": [
      "Ingrese un texto: neuquen\n"
     ]
    },
    {
     "name": "stdout",
     "output_type": "stream",
     "text": [
      "Palabra: neuquen . Palabra invertida: neuquen\n",
      "La palabra ingresada es un palíndromo\n"
     ]
    }
   ],
   "source": [
    "txt=input(\"Ingrese un texto:\")\n",
    "pal=str(txt)\n",
    "rvs=pal[::-1]\n",
    "print(\"Palabra:\",pal,\". Palabra invertida:\",rvs)\n",
    "if pal ==rvs:\n",
    "    print(\"La palabra ingresada es un palíndromo\")\n",
    "else:\n",
    "    print(\"La palabra ingresada NO es un palíndromo\")"
   ]
  },
  {
   "cell_type": "markdown",
   "metadata": {},
   "source": [
    "[Ejercicio 7](http://www.practicepython.org/exercise/2014/03/19/07-list-comprehensions.html)\n",
    "- Escribir un programa que a partir de una lista, devuelva una lista que solo contenga los elementos pares.\n",
    "- La selección de elementos deberá hacerse en una sola línea de código."
   ]
  },
  {
   "cell_type": "code",
   "execution_count": 61,
   "metadata": {
    "collapsed": true
   },
   "outputs": [
    {
     "name": "stdout",
     "output_type": "stream",
     "text": [
      "[2, 4, 6, 8, 10, 12]\n"
     ]
    }
   ],
   "source": [
    "lc=[1,2,3,4,5,6,7,8,9,10,11,12]\n",
    "lp=lc[1::2]\n",
    "print(lp)"
   ]
  }
 ],
 "metadata": {
  "kernelspec": {
   "display_name": "Python 3.7.4 (curso_PAE)",
   "language": "python",
   "name": "curso_pae"
  },
  "language_info": {
   "codemirror_mode": {
    "name": "ipython",
    "version": 3
   },
   "file_extension": ".py",
   "mimetype": "text/x-python",
   "name": "python",
   "nbconvert_exporter": "python",
   "pygments_lexer": "ipython3",
   "version": "3.7.4"
  }
 },
 "nbformat": 4,
 "nbformat_minor": 2
}
